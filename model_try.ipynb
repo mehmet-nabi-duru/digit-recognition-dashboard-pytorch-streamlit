{
 "cells": [
  {
   "cell_type": "code",
   "execution_count": null,
   "metadata": {},
   "outputs": [],
   "source": []
  }
 ],
 "metadata": {
  "kernelspec": {
   "display_name": "Python 3",
   "language": "python",
   "name": "python3"
  },
  "language_info": {
   "name": "python",
   "version": "3.10.4 (tags/v3.10.4:9d38120, Mar 23 2022, 23:13:41) [MSC v.1929 64 bit (AMD64)]"
  },
  "orig_nbformat": 4,
  "vscode": {
   "interpreter": {
    "hash": "9edafa5d8abd1d05200aae34394c1a75843ee6e2cf4c3b94bb6b1bd02e75e859"
   }
  }
 },
 "nbformat": 4,
 "nbformat_minor": 2
}
